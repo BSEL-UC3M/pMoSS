{
 "cells": [
  {
   "cell_type": "markdown",
   "metadata": {},
   "source": [
    "# DISpANALYSIS"
   ]
  },
  {
   "cell_type": "code",
   "execution_count": null,
   "metadata": {},
   "outputs": [],
   "source": [
    "# from sys import path\n",
    "# path.append('/Users/esti/Documents/PROYECTOS/3DPROTUCELL/pmoss/pMoSS/pmoss')"
   ]
  },
  {
   "cell_type": "code",
   "execution_count": 1,
   "metadata": {},
   "outputs": [
    {
     "ename": "ModuleNotFoundError",
     "evalue": "No module named 'models'",
     "output_type": "error",
     "traceback": [
      "\u001b[0;31m---------------------------------------------------------------------------\u001b[0m",
      "\u001b[0;31mModuleNotFoundError\u001b[0m                       Traceback (most recent call last)",
      "Cell \u001b[0;32mIn[1], line 4\u001b[0m\n\u001b[1;32m      2\u001b[0m \u001b[38;5;28;01mimport\u001b[39;00m \u001b[38;5;21;01mnumpy\u001b[39;00m \u001b[38;5;28;01mas\u001b[39;00m \u001b[38;5;21;01mnp\u001b[39;00m\n\u001b[1;32m      3\u001b[0m \u001b[38;5;28;01mimport\u001b[39;00m \u001b[38;5;21;01mpandas\u001b[39;00m \u001b[38;5;28;01mas\u001b[39;00m \u001b[38;5;21;01mpd\u001b[39;00m\n\u001b[0;32m----> 4\u001b[0m \u001b[38;5;28;01mfrom\u001b[39;00m \u001b[38;5;21;01mpmoss\u001b[39;00m\u001b[38;5;21;01m.\u001b[39;00m\u001b[38;5;21;01manalysis\u001b[39;00m \u001b[38;5;28;01mimport\u001b[39;00m compute_diagnosis\n\u001b[1;32m      5\u001b[0m \u001b[38;5;28;01mfrom\u001b[39;00m \u001b[38;5;21;01mpmoss\u001b[39;00m \u001b[38;5;28;01mimport\u001b[39;00m create_combination\n\u001b[1;32m      6\u001b[0m \u001b[38;5;28;01mfrom\u001b[39;00m \u001b[38;5;21;01mpmoss\u001b[39;00m\u001b[38;5;21;01m.\u001b[39;00m\u001b[38;5;21;01mdisplay\u001b[39;00m \u001b[38;5;28;01mimport\u001b[39;00m scatterplot_decrease_parameters, plot_pcurve_by_measure, composed_plot, table_of_results\n",
      "File \u001b[0;32m~/mambaforge/envs/pmoss/lib/python3.11/site-packages/pmoss/analysis/__init__.py:1\u001b[0m\n\u001b[0;32m----> 1\u001b[0m \u001b[38;5;28;01mfrom\u001b[39;00m \u001b[38;5;21;01m.\u001b[39;00m\u001b[38;5;21;01mdata_diagnosis\u001b[39;00m \u001b[38;5;28;01mimport\u001b[39;00m get_decision_index, data_diagnosis, compute_diagnosis\n",
      "File \u001b[0;32m~/mambaforge/envs/pmoss/lib/python3.11/site-packages/pmoss/analysis/data_diagnosis.py:15\u001b[0m\n\u001b[1;32m     13\u001b[0m \u001b[38;5;28;01mfrom\u001b[39;00m \u001b[38;5;21;01mpmoss\u001b[39;00m\u001b[38;5;21;01m.\u001b[39;00m\u001b[38;5;21;01mloaders\u001b[39;00m \u001b[38;5;28;01mimport\u001b[39;00m morphoparam\n\u001b[1;32m     14\u001b[0m \u001b[38;5;28;01mfrom\u001b[39;00m \u001b[38;5;21;01mpmoss\u001b[39;00m\u001b[38;5;21;01m.\u001b[39;00m\u001b[38;5;21;01mstatistics\u001b[39;00m \u001b[38;5;28;01mimport\u001b[39;00m cross_validated_pvalues\n\u001b[0;32m---> 15\u001b[0m \u001b[38;5;28;01mfrom\u001b[39;00m \u001b[38;5;21;01mmodels\u001b[39;00m\u001b[38;5;21;01m.\u001b[39;00m\u001b[38;5;21;01mlowess_fit\u001b[39;00m \u001b[38;5;28;01mimport\u001b[39;00m decission_data_lowess\n\u001b[1;32m     16\u001b[0m \u001b[38;5;28;01mfrom\u001b[39;00m \u001b[38;5;21;01mmodels\u001b[39;00m\u001b[38;5;21;01m.\u001b[39;00m\u001b[38;5;21;01mexponential_fit\u001b[39;00m \u001b[38;5;28;01mimport\u001b[39;00m decission_data_exponential\n\u001b[1;32m     18\u001b[0m \u001b[38;5;28;01mdef\u001b[39;00m \u001b[38;5;21mget_decision_index\u001b[39m(decission_param, data_features, combination_dict):\n",
      "\u001b[0;31mModuleNotFoundError\u001b[0m: No module named 'models'"
     ]
    }
   ],
   "source": [
    "# Load the packages needed to run the scripts in this notebook\n",
    "import numpy as np\n",
    "import pandas as pd\n",
    "from pmoss.analysis import compute_diagnosis\n",
    "from pmoss import create_combination\n",
    "from pmoss.display import scatterplot_decrease_parameters, plot_pcurve_by_measure, composed_plot, table_of_results\n",
    "from pmoss.models.exponential_fit import decission_data_exponential\n",
    "from pmoss.loaders import morphoparam\n",
    "# Avoid warnings\n",
    "import warnings\n",
    "warnings.filterwarnings('ignore')"
   ]
  },
  {
   "cell_type": "markdown",
   "metadata": {},
   "source": [
    "### Information about the data.\n",
    "Provide path containing the data (csv or excel) and the name of the file. \n",
    "\n",
    "Note: The column identifying the group to which each value belongs to, must have the name \"Condition\" and should be the first column."
   ]
  },
  {
   "cell_type": "code",
   "execution_count": null,
   "metadata": {},
   "outputs": [],
   "source": [
    "# path containing the data\n",
    "path = '../data/morphology_taxol/'\n",
    "path = \"/Users/esti/Documents/PROYECTOS/3DPROTUCELL/pmoss/pMoSS/data/morphology_taxol\"\n",
    "# Name of the file containing the information. It can be a csv or excel file. \n",
    "# Note that the column containing the labels of the group must have the name \"Condition\" \n",
    "# and should be the first column of the file.\n",
    "\n",
    "# You can read either a csv or excel files:\n",
    "file_name ='cell_data.xlsx'"
   ]
  },
  {
   "cell_type": "markdown",
   "metadata": {},
   "source": [
    "### Estimation of the p-value function "
   ]
  },
  {
   "cell_type": "markdown",
   "metadata": {},
   "source": [
    "Initialization parameters"
   ]
  },
  {
   "cell_type": "code",
   "execution_count": 2,
   "metadata": {},
   "outputs": [],
   "source": [
    "# number of \"n-values\" to evaluate (size of N-grid)\n",
    "grid_size = 10# 250 \n",
    "# minimum \"n-value\" to compute Monte Carlo cross-validation\n",
    "n0 = 2 \n",
    "# maximum \"n-value\" to compute Monte Carlo cross-validation\n",
    "Nmax = 2500\n",
    "\n",
    "# This value prevents from having only one iteration for the highest \"n-value\":\n",
    "# final iterations = k*(m/min(m,Nmax)) where m is the size of group with less observations. \n",
    "k = 20 \n",
    "\n",
    "# This value prevents from having millions of iterations in n0 (the lowest\"n-value\"):\n",
    "# initial iterations = np.log((m/n0)*initial_portion) where m is the size of group with less observations. \n",
    "initial_portion=0.001 # 1/15.\n",
    "\n"
   ]
  },
  {
   "cell_type": "markdown",
   "metadata": {},
   "source": [
    "Parameters for the calculation of the decision index"
   ]
  },
  {
   "cell_type": "code",
   "execution_count": 3,
   "metadata": {},
   "outputs": [],
   "source": [
    "alpha = 0.05 # alpha for a 100(1-alpha) statistical significance.\n",
    "gamma = 5e-06 # gamma in the paper = gamma*alpha.\n",
    "# Statistitical test to evaluate\n",
    "test = 'MannWhitneyU'\n",
    "# Method to estimate the p-value function\n",
    "method = 'exponential'"
   ]
  },
  {
   "cell_type": "markdown",
   "metadata": {},
   "source": [
    "Estimation of the p-value function and assesment of the decision index."
   ]
  },
  {
   "cell_type": "code",
   "execution_count": 4,
   "metadata": {
    "scrolled": true
   },
   "outputs": [
    {
     "ename": "NameError",
     "evalue": "name 'compute_diagnosis' is not defined",
     "output_type": "error",
     "traceback": [
      "\u001b[0;31m---------------------------------------------------------------------------\u001b[0m",
      "\u001b[0;31mNameError\u001b[0m                                 Traceback (most recent call last)",
      "Cell \u001b[0;32mIn[4], line 1\u001b[0m\n\u001b[0;32m----> 1\u001b[0m pvalues, param, Theta \u001b[38;5;241m=\u001b[39m \u001b[43mcompute_diagnosis\u001b[49m(file_name, path \u001b[38;5;241m=\u001b[39m path, gamma \u001b[38;5;241m=\u001b[39m gamma,\n\u001b[1;32m      2\u001b[0m                                           alpha \u001b[38;5;241m=\u001b[39m alpha, grid_size \u001b[38;5;241m=\u001b[39m grid_size,\n\u001b[1;32m      3\u001b[0m                                           n0 \u001b[38;5;241m=\u001b[39m n0, Nmax \u001b[38;5;241m=\u001b[39m Nmax,k \u001b[38;5;241m=\u001b[39m k,\n\u001b[1;32m      4\u001b[0m                                           initial_portion\u001b[38;5;241m=\u001b[39minitial_portion,\n\u001b[1;32m      5\u001b[0m                                           method \u001b[38;5;241m=\u001b[39m method, test \u001b[38;5;241m=\u001b[39m test)\n",
      "\u001b[0;31mNameError\u001b[0m: name 'compute_diagnosis' is not defined"
     ]
    }
   ],
   "source": [
    "pvalues, param, Theta = compute_diagnosis(file_name, path = path, gamma = gamma,\n",
    "                                          alpha = alpha, grid_size = grid_size,\n",
    "                                          n0 = n0, Nmax = Nmax,k = k,\n",
    "                                          initial_portion=initial_portion,\n",
    "                                          method = method, test = test)"
   ]
  },
  {
   "cell_type": "markdown",
   "metadata": {},
   "source": [
    "Save the results"
   ]
  },
  {
   "cell_type": "code",
   "execution_count": null,
   "metadata": {},
   "outputs": [],
   "source": [
    "# Save computed parameters\n",
    "pvalues.to_csv('../data/morphology_taxol/cell_morphology_pvalues.csv',index = False)\n"
   ]
  },
  {
   "cell_type": "markdown",
   "metadata": {},
   "source": [
    "### Plot of results"
   ]
  },
  {
   "cell_type": "code",
   "execution_count": null,
   "metadata": {
    "scrolled": true
   },
   "outputs": [],
   "source": [
    "# Load the data\n",
    "path = r'../data/morphology_taxol/'\n",
    "file_name = r'cell_data.xlsx'\n",
    "df = pd.read_csv(path + 'cell_morphology_pvalues.csv',sep=',')\n",
    "\n",
    "# Obtain the data, variables and name of the groups for which you would like to get a plot\n",
    "data, variables, group_labels = morphoparam(file_name, path=path)\n",
    "\n",
    "# You can create all the combinations from a dictionary with the labels of each group, or declare which combinations you want:\n",
    "# 1.- All combinations should be written exactly as in the csv of the p-values.\n",
    "combination = create_combination(group_labels)\n",
    "\n",
    "# Calculate the data related to exponential parameters:\n",
    "param = decission_data_exponential(df, combination, variables, sign_level = 0.05, gamma = 5e-06)"
   ]
  },
  {
   "cell_type": "code",
   "execution_count": null,
   "metadata": {},
   "outputs": [],
   "source": [
    "# print the results:\n",
    "table = table_of_results(param, variables, combination)\n",
    "table"
   ]
  },
  {
   "cell_type": "code",
   "execution_count": null,
   "metadata": {},
   "outputs": [],
   "source": [
    "# Plot exponential parameters a and c from p(n) = aexp(-cn) \n",
    "colors = ['#FF0000', '#F89800', '#0200DE']\n",
    "scatterplot_decrease_parameters(df, combination,variables, path = path,fs = 10, width = 5, height = 5, plot_type=\"exp-param\", colors = colors)"
   ]
  },
  {
   "cell_type": "code",
   "execution_count": null,
   "metadata": {},
   "outputs": [],
   "source": [
    "# Plot the estimator of the minimum sample size to observe statistically significant differences.\n",
    "scatterplot_decrease_parameters(df, combination,variables, path = path,fs = 10, width = 5, height = 5, plot_type=\"sampled-nalpha\", colors = colors)"
   ]
  },
  {
   "cell_type": "code",
   "execution_count": null,
   "metadata": {},
   "outputs": [],
   "source": [
    "# Plot the sample size n that satisfies alpha = aexp(-cn). This value is the theoretical minimum sample size needed to observe statistically significant differences.\n",
    "scatterplot_decrease_parameters(df, combination,variables, path = path,fs = 10, width = 5, height = 5, plot_type=\"theory-nalpha\", colors = colors)"
   ]
  },
  {
   "cell_type": "code",
   "execution_count": null,
   "metadata": {
    "scrolled": false
   },
   "outputs": [],
   "source": [
    "# Plot the p-function for continuous measures\n",
    "colors = ['#FF0000', '#F89800', '#0200DE']\n",
    "continuous_variables = {i:variables[i] for i in variables if variables[i]!='protrusion_binary'}\n",
    "plot_pcurve_by_measure(df, combination, continuous_variables, path = path, colors = colors)"
   ]
  },
  {
   "cell_type": "code",
   "execution_count": null,
   "metadata": {
    "scrolled": false
   },
   "outputs": [],
   "source": [
    "# Plot the p-function for continuous measures\n",
    "colors = ['#FF0000', '#F89800', '#0200DE']\n",
    "continuous_variables = {i:variables[i] for i in variables if variables[i]!='protrusion_binary'}\n",
    "composed_plot(data, df, group_labels, combination, continuous_variables, colors = colors, \n",
    "              fs = 20, width = 32, height = 10, bins = 1500)"
   ]
  },
  {
   "cell_type": "code",
   "execution_count": null,
   "metadata": {},
   "outputs": [],
   "source": [
    "# Plot the p-function for discrete variables measures\n",
    "discrete_variables = {'0': 'protrusion_binary'}\n",
    "test={'0': 'ChiSquared'}\n",
    "plot_pcurve_by_measure(df, combination, discrete_variables, path = path, test=test, colors = colors)"
   ]
  },
  {
   "cell_type": "code",
   "execution_count": null,
   "metadata": {},
   "outputs": [],
   "source": [
    "# Plot the p-function for discrete variables measures\n",
    "discrete_variables = {'0': 'protrusion_binary'}\n",
    "test={'0': 'ChiSquared'}\n",
    "composed_plot(data, df, group_labels, combination, discrete_variables,test=test, \n",
    "              colors = colors, fs = 20, width = 30, height = 10, bins = 5)"
   ]
  }
 ],
 "metadata": {
  "kernelspec": {
   "display_name": "Python 3 (ipykernel)",
   "language": "python",
   "name": "python3"
  },
  "language_info": {
   "codemirror_mode": {
    "name": "ipython",
    "version": 3
   },
   "file_extension": ".py",
   "mimetype": "text/x-python",
   "name": "python",
   "nbconvert_exporter": "python",
   "pygments_lexer": "ipython3",
   "version": "3.11.0"
  }
 },
 "nbformat": 4,
 "nbformat_minor": 2
}
