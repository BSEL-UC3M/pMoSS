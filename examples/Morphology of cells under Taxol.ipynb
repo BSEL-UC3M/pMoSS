{
 "cells": [
  {
   "cell_type": "markdown",
   "metadata": {},
   "source": [
    "# DISpANALYSIS"
   ]
  },
  {
   "cell_type": "code",
   "execution_count": null,
   "metadata": {},
   "outputs": [],
   "source": [
    "# Load the packages needed to run the scripts in this notebook\n",
    "import numpy as np\n",
    "import os\n",
    "import pandas as pd\n",
    "from pmoss.analysis import compute_diagnosis\n",
    "from pmoss import create_combination\n",
    "from pmoss.display import scatterplot_decrease_parameters, plot_pcurve_by_measure, composed_plot, table_of_results\n",
    "from pmoss.models.exponential_fit import decission_data_exponential\n",
    "from pmoss.loaders import morphoparam\n",
    "# Avoid warnings\n",
    "import warnings\n",
    "warnings.filterwarnings('ignore')"
   ]
  },
  {
   "cell_type": "markdown",
   "metadata": {},
   "source": [
    "### Information about the data.\n",
    "Provide path containing the data (csv or excel) and the name of the file. \n",
    "\n",
    "Note: The column identifying the group to which each value belongs to, must have the name \"Condition\" and should be the first column."
   ]
  },
  {
   "cell_type": "code",
   "execution_count": null,
   "metadata": {},
   "outputs": [],
   "source": [
    "# path containing the data\n",
    "path = '../data/morphology_taxol/'\n",
    "path = \"/Users/esti/Documents/PROYECTOS/3DPROTUCELL/pmoss/pMoSS/data/morphology_taxol\"\n",
    "# Name of the file containing the information. It can be a csv or excel file. \n",
    "# Note that the column containing the labels of the group must have the name \"Condition\" \n",
    "# and should be the first column of the file.\n",
    "\n",
    "# You can read either a csv or excel files:\n",
    "file_name ='cell_data.xlsx'"
   ]
  },
  {
   "cell_type": "markdown",
   "metadata": {},
   "source": [
    "### Estimation of the p-value function "
   ]
  },
  {
   "cell_type": "markdown",
   "metadata": {},
   "source": [
    "Initialization parameters"
   ]
  },
  {
   "cell_type": "code",
   "execution_count": null,
   "metadata": {},
   "outputs": [],
   "source": [
    "# number of \"n-values\" to evaluate (size of N-grid)\n",
    "grid_size = 100 \n",
    "# minimum \"n-value\" to compute Monte Carlo cross-validation\n",
    "n0 = 2 \n",
    "# maximum \"n-value\" to compute Monte Carlo cross-validation\n",
    "Nmax = 2500\n",
    "\n",
    "# This value prevents from having only one iteration for the highest \"n-value\":\n",
    "# final iterations = k*(m/min(m,Nmax)) where m is the size of group with less observations. \n",
    "k = 20 \n",
    "\n",
    "# This value prevents from having millions of iterations in n0 (the lowest\"n-value\"):\n",
    "# initial iterations = np.log((m/n0)*initial_portion) where m is the size of group with less observations. \n",
    "initial_portion= 1/15.\n",
    "\n"
   ]
  },
  {
   "cell_type": "markdown",
   "metadata": {},
   "source": [
    "Parameters for the calculation of the decision index"
   ]
  },
  {
   "cell_type": "code",
   "execution_count": null,
   "metadata": {},
   "outputs": [],
   "source": [
    "alpha = 0.05 # alpha for a 100(1-alpha) statistical significance.\n",
    "gamma = 5e-06 # gamma in the paper = gamma*alpha.\n",
    "# Statistitical test to evaluate\n",
    "test = 'MannWhitneyU'\n",
    "# Method to estimate the p-value function\n",
    "method = 'exponential'"
   ]
  },
  {
   "cell_type": "markdown",
   "metadata": {},
   "source": [
    "Estimation of the p-value function and assesment of the decision index."
   ]
  },
  {
   "cell_type": "code",
   "execution_count": null,
   "metadata": {
    "scrolled": true
   },
   "outputs": [],
   "source": [
    "pvalues, param, Theta = compute_diagnosis(file_name, path = path, gamma = gamma,\n",
    "                                          alpha = alpha, grid_size = grid_size,\n",
    "                                          n0 = n0, Nmax = Nmax,k = k,\n",
    "                                          initial_portion=initial_portion,\n",
    "                                          method = method, test = test)"
   ]
  },
  {
   "cell_type": "markdown",
   "metadata": {},
   "source": [
    "Save the results"
   ]
  },
  {
   "cell_type": "code",
   "execution_count": null,
   "metadata": {},
   "outputs": [],
   "source": [
    "# Save computed parameters\n",
    "pvalues.to_csv(os.path.join(path, \"cell_morphology_pvalues.csv\"), index = False)\n"
   ]
  },
  {
   "cell_type": "markdown",
   "metadata": {},
   "source": [
    "## Plot of results"
   ]
  },
  {
   "cell_type": "code",
   "execution_count": null,
   "metadata": {
    "scrolled": true
   },
   "outputs": [],
   "source": [
    "# Load the data\n",
    "\n",
    "## Write the path and file_nameif it's different from the previous one or you will compute the analysis from here\n",
    "# path = \"../data/morphology_taxol/\"\n",
    "# file_name = \"cell_data.xlsx\"\n",
    "\n",
    "# Load the computed p-values\n",
    "df = pd.read_csv(os.path.join(path, 'cell_morphology_pvalues.csv'), sep = ',')\n",
    "\n",
    "# Obtain the data, variables and name of the groups for which you would like to get a plot\n",
    "data, variables, group_labels = morphoparam(file_name, path = path)\n",
    "\n",
    "# You can create all the combinations from a dictionary with the labels of each group, or declare which combinations you want:\n",
    "# 1.- All combinations should be written exactly as in the csv of the p-values.\n",
    "combination = create_combination(group_labels)\n",
    "\n",
    "# Calculate the data related to exponential parameters:\n",
    "param = decission_data_exponential(df, combination, variables, sign_level = 0.05, gamma = 5e-06)"
   ]
  },
  {
   "cell_type": "code",
   "execution_count": null,
   "metadata": {},
   "outputs": [],
   "source": [
    "# print the results:\n",
    "table = table_of_results(param, variables, combination)\n",
    "table"
   ]
  },
  {
   "cell_type": "code",
   "execution_count": null,
   "metadata": {},
   "outputs": [],
   "source": [
    "# Plot exponential parameters a and c from p(n) = aexp(-cn) \n",
    "colors = ['#FF0000', '#F89800', '#0200DE']\n",
    "scatterplot_decrease_parameters(df, combination,variables, path = path, fs = 10, width = 5, height = 5,\n",
    "                                plot_type=\"exp-param\", colors = colors)"
   ]
  },
  {
   "cell_type": "code",
   "execution_count": null,
   "metadata": {},
   "outputs": [],
   "source": [
    "# Plot the estimator of the minimum sample size to observe statistically significant differences.\n",
    "scatterplot_decrease_parameters(df, combination,variables, path = path, fs = 10, width = 5, height = 5,\n",
    "                                plot_type=\"sampled-nalpha\", colors = colors)"
   ]
  },
  {
   "cell_type": "code",
   "execution_count": null,
   "metadata": {},
   "outputs": [],
   "source": [
    "# Plot the sample size n that satisfies alpha = aexp(-cn). This value is the theoretical minimum sample size needed to observe statistically significant differences.\n",
    "scatterplot_decrease_parameters(df, combination,variables, path = path, fs = 10, width = 5, height = 5,\n",
    "                                plot_type=\"theory-nalpha\", colors = colors)"
   ]
  },
  {
   "cell_type": "code",
   "execution_count": null,
   "metadata": {
    "scrolled": false
   },
   "outputs": [],
   "source": [
    "# Plot the p-function for continuous measures\n",
    "colors = ['#FF0000', '#F89800', '#0200DE']\n",
    "continuous_variables = {i:variables[i] for i in variables if variables[i]!='protrusion_binary'}\n",
    "plot_pcurve_by_measure(df, combination, continuous_variables, path = path, colors = colors)"
   ]
  },
  {
   "cell_type": "code",
   "execution_count": null,
   "metadata": {
    "scrolled": false
   },
   "outputs": [],
   "source": [
    "# Plot the p-function for continuous measures\n",
    "colors = ['#FF0000', '#F89800', '#0200DE']\n",
    "continuous_variables = {i:variables[i] for i in variables if variables[i]!='protrusion_binary'}\n",
    "composed_plot(data, df, group_labels, combination, continuous_variables, colors = colors, \n",
    "              fs = 20, width = 32, height = 10, bins = 1500)"
   ]
  },
  {
   "cell_type": "code",
   "execution_count": null,
   "metadata": {},
   "outputs": [],
   "source": [
    "# Plot the p-function for discrete variables measures\n",
    "discrete_variables = {'0': 'protrusion_binary'}\n",
    "test={'0': 'ChiSquared'}\n",
    "plot_pcurve_by_measure(df, combination, discrete_variables, path = path, test = test, colors = colors)"
   ]
  },
  {
   "cell_type": "code",
   "execution_count": null,
   "metadata": {},
   "outputs": [],
   "source": [
    "# Plot the p-function for discrete variables measures\n",
    "discrete_variables = {'0': 'protrusion_binary'}\n",
    "test={'0': 'ChiSquared'}\n",
    "composed_plot(data, df, group_labels, combination, discrete_variables, test = test, \n",
    "              colors = colors, fs = 20, width = 30, height = 10, bins = 5)"
   ]
  }
 ],
 "metadata": {
  "kernelspec": {
   "display_name": "Python 3 (ipykernel)",
   "language": "python",
   "name": "python3"
  },
  "language_info": {
   "codemirror_mode": {
    "name": "ipython",
    "version": 3
   },
   "file_extension": ".py",
   "mimetype": "text/x-python",
   "name": "python",
   "nbconvert_exporter": "python",
   "pygments_lexer": "ipython3",
   "version": "3.11.0"
  }
 },
 "nbformat": 4,
 "nbformat_minor": 2
}
