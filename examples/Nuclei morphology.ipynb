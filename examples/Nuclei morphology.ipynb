{
 "cells": [
  {
   "cell_type": "markdown",
   "metadata": {},
   "source": [
    "# DISpANALYSIS"
   ]
  },
  {
   "cell_type": "code",
   "execution_count": null,
   "metadata": {},
   "outputs": [],
   "source": [
    "# Load the packages needed to run the scripts in this notebook\n",
    "import numpy as np\n",
    "import os\n",
    "import pandas as pd\n",
    "from pmoss.analysis import compute_diagnosis\n",
    "from pmoss import create_combination\n",
    "from pmoss.display import scatterplot_decrease_parameters, plot_pcurve_by_measure, composed_plot, table_of_results\n",
    "from pmoss.models.exponential_fit import decission_data_exponential\n",
    "from pmoss.loaders import morphoparam\n",
    "# Avoid warnings\n",
    "import warnings\n",
    "warnings.filterwarnings('ignore')"
   ]
  },
  {
   "cell_type": "markdown",
   "metadata": {},
   "source": [
    "### Information about the data.\n",
    "Provide path containing the data (csv or excel) and the name of the file. \n",
    "\n",
    "Note: The column identifying the group to which each value belongs to, must have the name \"Condition\" and should be the first column."
   ]
  },
  {
   "cell_type": "code",
   "execution_count": null,
   "metadata": {},
   "outputs": [],
   "source": [
    "# path containing the data\n",
    "path = \"../data/morphology/\"\n",
    "path = \"/Users/esti/Documents/PROYECTOS/3DPROTUCELL/pmoss/pMoSS/data/morphology\"\n",
    "# Name of the file containing the information. It can be a csv or excel file. \n",
    "# Note that the column containing the labels of the group must have the name \"Condition\" \n",
    "# and should be the first column of the file.\n",
    "\n",
    "# You can read either a csv or excel files:\n",
    "\n",
    "# file_name =\"Aging morphology data.csv\"\n",
    "file_name = \"Aging morphology data.xlsx\""
   ]
  },
  {
   "cell_type": "markdown",
   "metadata": {},
   "source": [
    "### Estimation of the p-value function "
   ]
  },
  {
   "cell_type": "markdown",
   "metadata": {},
   "source": [
    "Initialization parameters"
   ]
  },
  {
   "cell_type": "code",
   "execution_count": null,
   "metadata": {},
   "outputs": [],
   "source": [
    "# number of \"n-values\" to evaluate (size of N-grid)\n",
    "grid_size = 100 \n",
    "# minimum \"n-value\" to compute Monte Carlo cross-validation\n",
    "n0 = 2 \n",
    "# maximum \"n-value\" to compute Monte Carlo cross-validation\n",
    "Nmax = 1200\n",
    "\n",
    "# This value prevents from having only one iteration for the highest \"n-value\":\n",
    "# final iterations = k*(m/min(m,Nmax)) where m is the size of group with less observations. \n",
    "k = 20 \n",
    "\n",
    "# This value prevents from having millions of iterations in n0 (the lowest\"n-value\"):\n",
    "# initial iterations = np.log((m/n0)*initial_portion) where m is the size of group with less observations. \n",
    "initial_portion= 1/3.\n",
    "\n"
   ]
  },
  {
   "cell_type": "markdown",
   "metadata": {},
   "source": [
    "Parameters for the calculation of the decision index"
   ]
  },
  {
   "cell_type": "code",
   "execution_count": null,
   "metadata": {},
   "outputs": [],
   "source": [
    "alpha = 0.05 # alpha for a 100(1-alpha) statistical significance.\n",
    "gamma = 5e-06 # gamma in the paper = gamma*alpha.\n",
    "# Statistitical test to evaluate\n",
    "test = 'MannWhitneyU'\n",
    "# Method to estimate the p-value function\n",
    "method = 'exponential'"
   ]
  },
  {
   "cell_type": "markdown",
   "metadata": {},
   "source": [
    "Estimation of the p-value function and assesment of the decision index."
   ]
  },
  {
   "cell_type": "code",
   "execution_count": null,
   "metadata": {
    "scrolled": true
   },
   "outputs": [],
   "source": [
    "pvalues, param, Theta = compute_diagnosis(file_name, path = path, gamma = gamma,\n",
    "                                          alpha = alpha, grid_size = grid_size,\n",
    "                                          n0 = n0, Nmax = Nmax,k = k,\n",
    "                                          initial_portion=initial_portion,\n",
    "                                          method = method, test = test)"
   ]
  },
  {
   "cell_type": "markdown",
   "metadata": {},
   "source": [
    "Save the results"
   ]
  },
  {
   "cell_type": "code",
   "execution_count": null,
   "metadata": {},
   "outputs": [],
   "source": [
    "# Save computed parameters\n",
    "pvalues.to_csv(os.path.join(path, \"aging_morphology_pvalues.csv\"), index = False)"
   ]
  },
  {
   "cell_type": "markdown",
   "metadata": {},
   "source": [
    "### Plot of results"
   ]
  },
  {
   "cell_type": "code",
   "execution_count": null,
   "metadata": {
    "scrolled": true
   },
   "outputs": [],
   "source": [
    "# Load the data\n",
    "\n",
    "## Write the path and file_nameif it's different from the previous one or you will compute the analysis from here\n",
    "# path = '../data/morphology/'\n",
    "# file_name = 'Aging morphology data.xlsx'\n",
    "\n",
    "df = pd.read_csv(os.path.join(path, \"aging_morphology_pvalues.csv\"), sep=',')\n",
    "\n",
    "# Obtain the data, variables and name of the groups for which you would like to get a plot\n",
    "data, variables, group_labels = morphoparam(file_name, path = path)\n",
    "\n",
    "# Declare the variables for which you would like to get a plot\n",
    "variables={\n",
    "            '0': 'area (px^2)',\n",
    "            '1': 'short axis length (px)',\n",
    "            '2': 'orientation'\n",
    "            }\n",
    "\n",
    "# You can create all the combinations from a dictionary with the labels of each group, or declare which combinations you want:\n",
    "# 1.- All combinations should be written exactly as in the csv of the p-values.\n",
    "\n",
    "# group_labels = {'0':'A02',\n",
    "#             '1':'A03',\n",
    "#             '2':'A09',\n",
    "#             '3':'A16',\n",
    "#             '4':'A29',\n",
    "#             '5':'A35',\n",
    "#             '6':'A55',\n",
    "#             '7':'A65',\n",
    "#             '8':'A85',\n",
    "#             '9':'A96'\n",
    "#             }\n",
    "#combination = create_combination(group_labels)\n",
    "\n",
    "# 2.- Set the desired combinations\n",
    "combination={\n",
    " '0': 'A02_A03',\n",
    " '1': 'A02_A09',\n",
    " '2': 'A02_A16',\n",
    " '3': 'A02_A29',\n",
    " '4': 'A02_A35',\n",
    " '5': 'A02_A55', \n",
    " '6': 'A02_A65', \n",
    " '7': 'A02_A85', \n",
    " '8': 'A02_A96'\n",
    " }\n",
    "\n",
    "# Load the data related to exponential parameters:\n",
    "\n",
    "# param = pd.read_csv('../data/morphology/aging_morphology_param.csv',sep=',')\n",
    "\n",
    "# or calculate it:\n",
    "param = decission_data_exponential(df, combination, variables, sign_level = 0.05, gamma = 5e-06)"
   ]
  },
  {
   "cell_type": "code",
   "execution_count": null,
   "metadata": {},
   "outputs": [],
   "source": [
    "# print the results:\n",
    "table = table_of_results(param, variables, combination)\n",
    "table"
   ]
  },
  {
   "cell_type": "code",
   "execution_count": null,
   "metadata": {},
   "outputs": [],
   "source": [
    "# plot \n",
    "scatterplot_decrease_parameters(df, combination,variables, path = path, fs = 10, width = 5, height = 5, \n",
    "                                plot_type=\"exp-param\")"
   ]
  },
  {
   "cell_type": "code",
   "execution_count": null,
   "metadata": {
    "scrolled": true
   },
   "outputs": [],
   "source": [
    "scatterplot_decrease_parameters(df, combination,variables, path = path, fs = 10, width = 5, height = 5, \n",
    "                                plot_type=\"sampled-nalpha\")"
   ]
  },
  {
   "cell_type": "code",
   "execution_count": null,
   "metadata": {},
   "outputs": [],
   "source": [
    "scatterplot_decrease_parameters(df, combination,variables, path = path, fs = 10, width = 5, height = 5,\n",
    "                                plot_type=\"theory-nalpha\")"
   ]
  },
  {
   "cell_type": "code",
   "execution_count": null,
   "metadata": {},
   "outputs": [],
   "source": [
    "plot_pcurve_by_measure(df, combination, variables, path = path)"
   ]
  },
  {
   "cell_type": "code",
   "execution_count": null,
   "metadata": {
    "scrolled": false
   },
   "outputs": [],
   "source": [
    "composed_plot(data, df, group_labels, combination, variables, fs = 23, width = 37, height = 15, bins = 100)"
   ]
  }
 ],
 "metadata": {
  "kernelspec": {
   "display_name": "Python 3 (ipykernel)",
   "language": "python",
   "name": "python3"
  },
  "language_info": {
   "codemirror_mode": {
    "name": "ipython",
    "version": 3
   },
   "file_extension": ".py",
   "mimetype": "text/x-python",
   "name": "python",
   "nbconvert_exporter": "python",
   "pygments_lexer": "ipython3",
   "version": "3.11.0"
  }
 },
 "nbformat": 4,
 "nbformat_minor": 2
}
